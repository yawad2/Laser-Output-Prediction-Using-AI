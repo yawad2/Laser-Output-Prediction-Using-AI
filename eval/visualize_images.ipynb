{
 "cells": [
  {
   "cell_type": "markdown",
   "id": "818c3d9f",
   "metadata": {},
   "source": [
    "# Import Libraries and Utility Functions"
   ]
  },
  {
   "cell_type": "code",
   "execution_count": null,
   "id": "deb44e0e",
   "metadata": {},
   "outputs": [],
   "source": [
    "# imports libs\n",
    "import numpy as np\n",
    "from misc_utils import *"
   ]
  },
  {
   "cell_type": "markdown",
   "id": "0a894603",
   "metadata": {},
   "source": [
    "# Load image data (.csv)"
   ]
  },
  {
   "cell_type": "code",
   "execution_count": null,
   "id": "baf9a906",
   "metadata": {},
   "outputs": [],
   "source": [
    "master_folder = 'INSERT INPUT/PRED/TARGET FOLDER HERE'\n",
    "df = get_df(master_folder)"
   ]
  },
  {
   "cell_type": "markdown",
   "id": "cb8728b9",
   "metadata": {},
   "source": [
    "## Calculate Energy % error"
   ]
  },
  {
   "cell_type": "code",
   "execution_count": null,
   "id": "4b92658c",
   "metadata": {},
   "outputs": [],
   "source": [
    "pred_energy = [get_energy(pred.values) for pred in df['prediction']]\n",
    "target_energy = [get_energy(target.values) for target in df['target']]\n",
    "input_energy = [get_energy(input.values) for input in df['input']]\n",
    "diff_energy_percentage = [(abs(pred - target)/target*100) for pred, target in zip(pred_energy, target_energy)]\n",
    "df['diff_energy_percent'] = diff_energy_percentage\n",
    "df['pred_energy'] = pred_energy\n",
    "df['target_energy'] = target_energy\n",
    "df['input_energy'] = input_energy\n",
    "df.describe()"
   ]
  },
  {
   "cell_type": "markdown",
   "id": "6c0a6861",
   "metadata": {},
   "source": [
    "# Boxplot for Energy % Error"
   ]
  },
  {
   "cell_type": "code",
   "execution_count": null,
   "id": "b6e4ff7f",
   "metadata": {},
   "outputs": [],
   "source": [
    "import matplotlib.pyplot as plt\n",
    "\n",
    "plt.title('INSERT TITLE HERE')\n",
    "df.boxplot(column='diff_energy_percent')\n",
    "plt.ylabel('Difference in Energy (%)')\n",
    "\n",
    "ymin, ymax = plt.ylim()\n",
    "ymin = 20 * (int(ymin) // 20)\n",
    "ymax = 20 * ((int(ymax) + 19) // 20)\n",
    "plt.ylim(ymin, ymax)\n",
    "plt.yticks(np.arange(ymin, ymax + 1, 20))\n",
    "\n",
    "plt.show()"
   ]
  },
  {
   "cell_type": "markdown",
   "id": "98d4a272",
   "metadata": {},
   "source": [
    "# Save Generated Images"
   ]
  },
  {
   "cell_type": "code",
   "execution_count": null,
   "id": "40578b1c",
   "metadata": {},
   "outputs": [],
   "source": [
    "# sort by run/subrun\n",
    "df.sort_values(by=['run', 'subrun'], inplace=True)\n"
   ]
  },
  {
   "cell_type": "code",
   "execution_count": null,
   "id": "22da4f96",
   "metadata": {},
   "outputs": [],
   "source": [
    "for run in df['run'].unique():\n",
    "    os.makedirs(f'run_{run}_images', exist_ok=True)\n",
    "    run_df = df[df['run'] == run]\n",
    "    for subrun in run_df['subrun'].unique():\n",
    "        subrun_df = run_df[run_df['subrun'] == subrun]\n",
    "        difference = subrun_df['target'].values[0] - subrun_df['prediction'].values[0]\n",
    "        images = (subrun_df['target'].values[0], \n",
    "                  subrun_df['prediction'].values[0],\n",
    "                  difference)\n",
    "        titles = ('Target', 'Prediction', 'Difference (Target - Prediction)')\n",
    "        save_heatmaps(images, titles, path=f'run_{run}_images/run_{run}_subrun_{subrun}.png')"
   ]
  },
  {
   "cell_type": "markdown",
   "id": "1ee252f4",
   "metadata": {},
   "source": [
    "# Generate video"
   ]
  },
  {
   "cell_type": "code",
   "execution_count": null,
   "id": "ad679c63",
   "metadata": {},
   "outputs": [],
   "source": [
    "image_folder ='INSERT_IMAGE_FOLDER_HERE'  # Replace with the actual folder containing images\n",
    "video_name = 'INSERT_VIDEO_NAME_HERE.avi'  # Replace with the desired video name\n",
    "generate_video(image_folder, video_name)\n"
   ]
  }
 ],
 "metadata": {
  "kernelspec": {
   "display_name": "lle_env",
   "language": "python",
   "name": "python3"
  },
  "language_info": {
   "codemirror_mode": {
    "name": "ipython",
    "version": 3
   },
   "file_extension": ".py",
   "mimetype": "text/x-python",
   "name": "python",
   "nbconvert_exporter": "python",
   "pygments_lexer": "ipython3",
   "version": "3.13.3"
  }
 },
 "nbformat": 4,
 "nbformat_minor": 5
}
